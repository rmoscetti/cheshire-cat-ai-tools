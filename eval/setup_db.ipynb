{
 "cells": [
  {
   "cell_type": "code",
   "execution_count": 5,
   "metadata": {},
   "outputs": [],
   "source": [
    "import polars as pl\n",
    "from polars import col as c\n",
    "from pyprojroot import here"
   ]
  },
  {
   "cell_type": "code",
   "execution_count": 34,
   "metadata": {},
   "outputs": [],
   "source": [
    "df_raw = pl.read_csv(here(\"case study/features_by_load_cells.csv\"))\n",
    "\n",
    "df = df_raw.select(\n",
    "    time_seconds = c.time_s,\n",
    "    # time = pl.datetime(\n",
    "    #     year=2025, month=1, day=1, hour=c.hh, minute=c.mm, second=c.ss, microsecond=c.ms\n",
    "    # ),\n",
    "    fraction_initial = c.MCwb, weight = c.Weight_g\n",
    ")"
   ]
  },
  {
   "cell_type": "code",
   "execution_count": 39,
   "metadata": {},
   "outputs": [
    {
     "data": {
      "text/html": [
       "<div><style>\n",
       ".dataframe > thead > tr,\n",
       ".dataframe > tbody > tr {\n",
       "  text-align: right;\n",
       "  white-space: pre-wrap;\n",
       "}\n",
       "</style>\n",
       "<small>shape: (5_762, 3)</small><table border=\"1\" class=\"dataframe\"><thead><tr><th>time_seconds</th><th>fraction_initial</th><th>weight</th></tr><tr><td>f64</td><td>f64</td><td>f64</td></tr></thead><tbody><tr><td>0.0</td><td>0.9</td><td>296.16</td></tr><tr><td>30.0</td><td>0.899392</td><td>295.98</td></tr><tr><td>60.0</td><td>0.89892</td><td>295.84</td></tr><tr><td>90.0</td><td>0.898312</td><td>295.66</td></tr><tr><td>120.0</td><td>0.897771</td><td>295.5</td></tr><tr><td>&hellip;</td><td>&hellip;</td><td>&hellip;</td></tr><tr><td>172710.0</td><td>0.030267</td><td>38.58</td></tr><tr><td>172740.0</td><td>0.0302</td><td>38.56</td></tr><tr><td>172770.0</td><td>0.0302</td><td>38.56</td></tr><tr><td>172800.0</td><td>0.0302</td><td>38.56</td></tr><tr><td>172830.0</td><td>0.030267</td><td>38.58</td></tr></tbody></table></div>"
      ],
      "text/plain": [
       "shape: (5_762, 3)\n",
       "┌──────────────┬──────────────────┬────────┐\n",
       "│ time_seconds ┆ fraction_initial ┆ weight │\n",
       "│ ---          ┆ ---              ┆ ---    │\n",
       "│ f64          ┆ f64              ┆ f64    │\n",
       "╞══════════════╪══════════════════╪════════╡\n",
       "│ 0.0          ┆ 0.9              ┆ 296.16 │\n",
       "│ 30.0         ┆ 0.899392         ┆ 295.98 │\n",
       "│ 60.0         ┆ 0.89892          ┆ 295.84 │\n",
       "│ 90.0         ┆ 0.898312         ┆ 295.66 │\n",
       "│ 120.0        ┆ 0.897771         ┆ 295.5  │\n",
       "│ …            ┆ …                ┆ …      │\n",
       "│ 172710.0     ┆ 0.030267         ┆ 38.58  │\n",
       "│ 172740.0     ┆ 0.0302           ┆ 38.56  │\n",
       "│ 172770.0     ┆ 0.0302           ┆ 38.56  │\n",
       "│ 172800.0     ┆ 0.0302           ┆ 38.56  │\n",
       "│ 172830.0     ┆ 0.030267         ┆ 38.58  │\n",
       "└──────────────┴──────────────────┴────────┘"
      ]
     },
     "execution_count": 39,
     "metadata": {},
     "output_type": "execute_result"
    }
   ],
   "source": [
    "df"
   ]
  },
  {
   "cell_type": "code",
   "execution_count": 38,
   "metadata": {},
   "outputs": [],
   "source": [
    "df.write_csv(here(\"drymulator/src/drymulator/server/test_data.csv\"))"
   ]
  },
  {
   "cell_type": "code",
   "execution_count": null,
   "metadata": {},
   "outputs": [],
   "source": []
  }
 ],
 "metadata": {
  "kernelspec": {
   "display_name": "py-cheshire-tool",
   "language": "python",
   "name": "py-cheshire-tool"
  },
  "language_info": {
   "codemirror_mode": {
    "name": "ipython",
    "version": 3
   },
   "file_extension": ".py",
   "mimetype": "text/x-python",
   "name": "python",
   "nbconvert_exporter": "python",
   "pygments_lexer": "ipython3",
   "version": "3.13.1"
  }
 },
 "nbformat": 4,
 "nbformat_minor": 2
}
