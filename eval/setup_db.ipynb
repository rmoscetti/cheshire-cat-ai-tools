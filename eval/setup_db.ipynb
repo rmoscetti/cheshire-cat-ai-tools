{
 "cells": [
  {
   "cell_type": "code",
   "execution_count": 2,
   "metadata": {},
   "outputs": [],
   "source": [
    "import polars as pl\n",
    "from polars import col as c\n",
    "from pyprojroot import here"
   ]
  },
  {
   "cell_type": "code",
   "execution_count": 9,
   "metadata": {},
   "outputs": [],
   "source": [
    "df_raw = pl.read_csv(here(\"case study/features_by_load_cells.csv\"))\n",
    "\n",
    "df = df_raw.select(\n",
    "    pl.datetime(\n",
    "        year=2025, month=1, day=1, hour=c.hh, minute=c.mm, second=c.ss, microsecond=c.ms\n",
    "    ).alias(\"time\"),\n",
    "    c.MCdb,\n",
    ")"
   ]
  },
  {
   "cell_type": "code",
   "execution_count": 10,
   "metadata": {},
   "outputs": [
    {
     "data": {
      "text/html": [
       "<div><style>\n",
       ".dataframe > thead > tr,\n",
       ".dataframe > tbody > tr {\n",
       "  text-align: right;\n",
       "  white-space: pre-wrap;\n",
       "}\n",
       "</style>\n",
       "<small>shape: (5_762, 2)</small><table border=\"1\" class=\"dataframe\"><thead><tr><th>time</th><th>MCdb</th></tr><tr><td>datetime[μs]</td><td>f64</td></tr></thead><tbody><tr><td>2025-01-01 16:27:34.301303</td><td>9.0</td></tr><tr><td>2025-01-01 16:28:04.303330</td><td>8.993922</td></tr><tr><td>2025-01-01 16:28:34.302747</td><td>8.989195</td></tr><tr><td>2025-01-01 16:29:04.302070</td><td>8.983117</td></tr><tr><td>2025-01-01 16:29:34.304518</td><td>8.977715</td></tr><tr><td>&hellip;</td><td>&hellip;</td></tr><tr><td>2025-01-01 16:26:10.075649</td><td>0.302674</td></tr><tr><td>2025-01-01 16:26:40.075243</td><td>0.301999</td></tr><tr><td>2025-01-01 16:27:10.080337</td><td>0.301999</td></tr><tr><td>2025-01-01 16:27:40.078726</td><td>0.301999</td></tr><tr><td>2025-01-01 16:28:10.081162</td><td>0.302674</td></tr></tbody></table></div>"
      ],
      "text/plain": [
       "shape: (5_762, 2)\n",
       "┌────────────────────────────┬──────────┐\n",
       "│ time                       ┆ MCdb     │\n",
       "│ ---                        ┆ ---      │\n",
       "│ datetime[μs]               ┆ f64      │\n",
       "╞════════════════════════════╪══════════╡\n",
       "│ 2025-01-01 16:27:34.301303 ┆ 9.0      │\n",
       "│ 2025-01-01 16:28:04.303330 ┆ 8.993922 │\n",
       "│ 2025-01-01 16:28:34.302747 ┆ 8.989195 │\n",
       "│ 2025-01-01 16:29:04.302070 ┆ 8.983117 │\n",
       "│ 2025-01-01 16:29:34.304518 ┆ 8.977715 │\n",
       "│ …                          ┆ …        │\n",
       "│ 2025-01-01 16:26:10.075649 ┆ 0.302674 │\n",
       "│ 2025-01-01 16:26:40.075243 ┆ 0.301999 │\n",
       "│ 2025-01-01 16:27:10.080337 ┆ 0.301999 │\n",
       "│ 2025-01-01 16:27:40.078726 ┆ 0.301999 │\n",
       "│ 2025-01-01 16:28:10.081162 ┆ 0.302674 │\n",
       "└────────────────────────────┴──────────┘"
      ]
     },
     "execution_count": 10,
     "metadata": {},
     "output_type": "execute_result"
    }
   ],
   "source": [
    "df"
   ]
  },
  {
   "cell_type": "code",
   "execution_count": null,
   "metadata": {},
   "outputs": [],
   "source": []
  }
 ],
 "metadata": {
  "kernelspec": {
   "display_name": "py-cheshire-tool",
   "language": "python",
   "name": "py-cheshire-tool"
  },
  "language_info": {
   "codemirror_mode": {
    "name": "ipython",
    "version": 3
   },
   "file_extension": ".py",
   "mimetype": "text/x-python",
   "name": "python",
   "nbconvert_exporter": "python",
   "pygments_lexer": "ipython3",
   "version": "3.13.1"
  }
 },
 "nbformat": 4,
 "nbformat_minor": 2
}
