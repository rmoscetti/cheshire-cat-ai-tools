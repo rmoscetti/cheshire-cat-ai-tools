{
 "cells": [
  {
   "cell_type": "markdown",
   "id": "a11efd8a",
   "metadata": {},
   "source": [
    "# Evaluation rerun\n",
    "\n",
    "the evaluation failed for some for questions, but we have the model answers so I want to rerun the evaluation"
   ]
  },
  {
   "cell_type": "code",
   "execution_count": null,
   "id": "693276e8",
   "metadata": {},
   "outputs": [],
   "source": [
    "#| default_exp rerun_eval"
   ]
  },
  {
   "cell_type": "code",
   "execution_count": null,
   "id": "79e3ab3a",
   "metadata": {},
   "outputs": [],
   "source": [
    "#| export\n",
    "from cat_tools.eval import similarity_scorer, conf_variants, prepare_declarative_memory, CatModel\n",
    "import weave\n",
    "import pandas as pd\n",
    "from tqdm.auto import tqdm\n",
    "import polars as pl\n",
    "from polars import col as c\n",
    "from cat_tools.client import SuperCatClient\n",
    "from datetime import datetime"
   ]
  },
  {
   "cell_type": "code",
   "execution_count": null,
   "id": "9edf5b75",
   "metadata": {},
   "outputs": [
    {
     "name": "stderr",
     "output_type": "stream",
     "text": [
      "\u001b[36m\u001b[1mweave\u001b[0m: weave version 0.52.6 is available!  To upgrade, please run:\n",
      "\u001b[36m\u001b[1mweave\u001b[0m:  $ pip install weave --upgrade\n",
      "\u001b[36m\u001b[1mweave\u001b[0m: Logged in as Weights & Biases user: smassaro-unitus.\n",
      "\u001b[36m\u001b[1mweave\u001b[0m: View Weave data at https://wandb.ai/smart-drying-unitus/declarative-eval/weave\n"
     ]
    }
   ],
   "source": [
    "#| export\n",
    "weave_client = weave.init(\"smart-drying-unitus/declarative-eval\")"
   ]
  },
  {
   "cell_type": "code",
   "execution_count": null,
   "id": "38b24a43",
   "metadata": {},
   "outputs": [],
   "source": [
    "#| export\n",
    "calls_query={\"$expr\":{\"$and\":[{\"$gt\":[{\"$getField\":\"started_at\"},{\"$literal\":1756801780.338}]},{\"$or\":[{\"$eq\":[{\"$getField\":\"id\"},{\"$literal\":\"019927e9-0d45-7a20-a70c-ad6886ffdb46\"}]},{\"$eq\":[{\"$getField\":\"id\"},{\"$literal\":\"019926be-3e2c-7041-9927-26b76aa3fdb9\"}]},{\"$eq\":[{\"$getField\":\"id\"},{\"$literal\":\"019925fa-39ee-7f57-b923-eb9cdb36c1e6\"}]},{\"$eq\":[{\"$getField\":\"id\"},{\"$literal\":\"0199175a-03ae-7809-8292-f22c2320f1ee\"}]},{\"$eq\":[{\"$getField\":\"id\"},{\"$literal\":\"01990fbd-ae07-74cc-9b8e-9e5ae323d958\"}]},{\"$eq\":[{\"$getField\":\"id\"},{\"$literal\":\"019910d8-995a-78ed-8151-afbd5a5e4223\"}]},{\"$eq\":[{\"$getField\":\"id\"},{\"$literal\":\"0199115d-6ac3-7422-815a-c2b56b7decae\"}]},{\"$eq\":[{\"$getField\":\"id\"},{\"$literal\":\"01991448-bdfd-762d-ab6c-c4851521d521\"}]},{\"$eq\":[{\"$getField\":\"id\"},{\"$literal\":\"01991061-7220-7a2a-aa03-a14bd6c8a003\"}]}]}]}}"
   ]
  },
  {
   "cell_type": "code",
   "execution_count": null,
   "id": "87498fe3",
   "metadata": {},
   "outputs": [],
   "source": [
    "#| export\n",
    "def parse_calls(calls):\n",
    "    outs = []\n",
    "    for call in tqdm(list(calls)):\n",
    "        model_name = call.inputs['model'].name\n",
    "        has_mem =  'NO memory' not in call.display_name\n",
    "        for row in call.children():\n",
    "            out = {}\n",
    "            if inp := row.inputs.unwrap():\n",
    "                if inp := inp.get('example', False):\n",
    "                        out['question_id']= inp['id']\n",
    "                        out['question']= inp['prompt']\n",
    "                        out['expected_answer']= inp['target']\n",
    "            if output := row.output:\n",
    "                output = output.unwrap()\n",
    "                if 'output' in output:\n",
    "                    if 'text_clean' in output['output']:\n",
    "                        out['model_answer'] = output['output']['text_clean']\n",
    "                    if 'scores' in output:\n",
    "                        if 'CatEmbeddingSimilarityScorer' in output['scores']:\n",
    "                            out['similarity_score'] = output['scores']['CatEmbeddingSimilarityScorer']['similarity_score']\n",
    "\n",
    "            out['model_name'] = model_name\n",
    "            out['weave_call'] = row\n",
    "            out['has_declarative_memory'] = has_mem\n",
    "            outs.append(out)\n",
    "    return pd.DataFrame(outs)"
   ]
  },
  {
   "cell_type": "code",
   "execution_count": null,
   "id": "6ae4db75",
   "metadata": {},
   "outputs": [],
   "source": [
    "calls = weave_client.get_calls(\n",
    "    filter={\"trace_roots_only\": True},\n",
    "    query = calls_query,\n",
    "    sort_by=[{\"field\":\"started_at\",\"direction\":\"desc\"}],\n",
    ")"
   ]
  },
  {
   "cell_type": "code",
   "execution_count": null,
   "id": "461dd347",
   "metadata": {},
   "outputs": [
    {
     "data": {
      "application/vnd.jupyter.widget-view+json": {
       "model_id": "1b915f1ca086413fa742de607241877a",
       "version_major": 2,
       "version_minor": 0
      },
      "text/plain": [
       "  0%|          | 0/9 [00:00<?, ?it/s]"
      ]
     },
     "metadata": {},
     "output_type": "display_data"
    },
    {
     "ename": "KeyboardInterrupt",
     "evalue": "",
     "output_type": "error",
     "traceback": [
      "\u001b[31m---------------------------------------------------------------------------\u001b[39m",
      "\u001b[31mKeyboardInterrupt\u001b[39m                         Traceback (most recent call last)",
      "\u001b[36mCell\u001b[39m\u001b[36m \u001b[39m\u001b[32mIn[32]\u001b[39m\u001b[32m, line 1\u001b[39m\n\u001b[32m----> \u001b[39m\u001b[32m1\u001b[39m df = \u001b[43mparse_calls\u001b[49m\u001b[43m(\u001b[49m\u001b[43mcalls\u001b[49m\u001b[43m)\u001b[49m\n",
      "\u001b[36mCell\u001b[39m\u001b[36m \u001b[39m\u001b[32mIn[29]\u001b[39m\u001b[32m, line 15\u001b[39m, in \u001b[36mparse_calls\u001b[39m\u001b[34m(calls)\u001b[39m\n\u001b[32m     13\u001b[39m             out[\u001b[33m'\u001b[39m\u001b[33mexpected_answer\u001b[39m\u001b[33m'\u001b[39m]= inp[\u001b[33m'\u001b[39m\u001b[33mtarget\u001b[39m\u001b[33m'\u001b[39m]\n\u001b[32m     14\u001b[39m \u001b[38;5;28;01mif\u001b[39;00m output := row.output:\n\u001b[32m---> \u001b[39m\u001b[32m15\u001b[39m     output = \u001b[43moutput\u001b[49m\u001b[43m.\u001b[49m\u001b[43munwrap\u001b[49m\u001b[43m(\u001b[49m\u001b[43m)\u001b[49m\n\u001b[32m     16\u001b[39m     \u001b[38;5;28;01mif\u001b[39;00m \u001b[33m'\u001b[39m\u001b[33moutput\u001b[39m\u001b[33m'\u001b[39m \u001b[38;5;129;01min\u001b[39;00m output:\n\u001b[32m     17\u001b[39m         \u001b[38;5;28;01mif\u001b[39;00m \u001b[33m'\u001b[39m\u001b[33mtext_clean\u001b[39m\u001b[33m'\u001b[39m \u001b[38;5;129;01min\u001b[39;00m output[\u001b[33m'\u001b[39m\u001b[33moutput\u001b[39m\u001b[33m'\u001b[39m]:\n",
      "\u001b[36mFile \u001b[39m\u001b[32m~/cheshire-cat-ai-tools/.pixi/envs/default/lib/python3.13/site-packages/weave/trace/vals.py:740\u001b[39m, in \u001b[36mWeaveDict.unwrap\u001b[39m\u001b[34m(self)\u001b[39m\n\u001b[32m    739\u001b[39m \u001b[38;5;28;01mdef\u001b[39;00m\u001b[38;5;250m \u001b[39m\u001b[34munwrap\u001b[39m(\u001b[38;5;28mself\u001b[39m) -> Any:\n\u001b[32m--> \u001b[39m\u001b[32m740\u001b[39m     \u001b[38;5;28;01mreturn\u001b[39;00m \u001b[43munwrap\u001b[49m\u001b[43m(\u001b[49m\u001b[38;5;28;43mdict\u001b[39;49m\u001b[43m(\u001b[49m\u001b[38;5;28;43mself\u001b[39;49m\u001b[43m.\u001b[49m\u001b[43mitems\u001b[49m\u001b[43m(\u001b[49m\u001b[43m)\u001b[49m\u001b[43m)\u001b[49m\u001b[43m)\u001b[49m\n",
      "\u001b[36mFile \u001b[39m\u001b[32m~/cheshire-cat-ai-tools/.pixi/envs/default/lib/python3.13/site-packages/weave/trace/vals.py:101\u001b[39m, in \u001b[36munwrap\u001b[39m\u001b[34m(val)\u001b[39m\n\u001b[32m     99\u001b[39m     \u001b[38;5;28;01mreturn\u001b[39;00m val.unwrap()\n\u001b[32m    100\u001b[39m \u001b[38;5;28;01melif\u001b[39;00m \u001b[38;5;28misinstance\u001b[39m(val, \u001b[38;5;28mdict\u001b[39m):\n\u001b[32m--> \u001b[39m\u001b[32m101\u001b[39m     \u001b[38;5;28;01mreturn\u001b[39;00m {k: \u001b[43munwrap\u001b[49m\u001b[43m(\u001b[49m\u001b[43mv\u001b[49m\u001b[43m)\u001b[49m \u001b[38;5;28;01mfor\u001b[39;00m k, v \u001b[38;5;129;01min\u001b[39;00m val.items()}\n\u001b[32m    102\u001b[39m \u001b[38;5;28;01melif\u001b[39;00m \u001b[38;5;28misinstance\u001b[39m(val, \u001b[38;5;28mlist\u001b[39m):\n\u001b[32m    103\u001b[39m     \u001b[38;5;28;01mreturn\u001b[39;00m [unwrap(v) \u001b[38;5;28;01mfor\u001b[39;00m v \u001b[38;5;129;01min\u001b[39;00m val]\n",
      "\u001b[36mFile \u001b[39m\u001b[32m~/cheshire-cat-ai-tools/.pixi/envs/default/lib/python3.13/site-packages/weave/trace/vals.py:97\u001b[39m, in \u001b[36munwrap\u001b[39m\u001b[34m(val)\u001b[39m\n\u001b[32m     95\u001b[39m \u001b[38;5;28;01mdef\u001b[39;00m\u001b[38;5;250m \u001b[39m\u001b[34munwrap\u001b[39m(val: Any) -> Any:\n\u001b[32m     96\u001b[39m     \u001b[38;5;28;01mif\u001b[39;00m \u001b[38;5;28misinstance\u001b[39m(val, Traceable):\n\u001b[32m---> \u001b[39m\u001b[32m97\u001b[39m         \u001b[38;5;28;01mreturn\u001b[39;00m \u001b[43mval\u001b[49m\u001b[43m.\u001b[49m\u001b[43munwrap\u001b[49m\u001b[43m(\u001b[49m\u001b[43m)\u001b[49m\n\u001b[32m     98\u001b[39m     \u001b[38;5;28;01melif\u001b[39;00m \u001b[38;5;28misinstance\u001b[39m(val, ObjectRecord):\n\u001b[32m     99\u001b[39m         \u001b[38;5;28;01mreturn\u001b[39;00m val.unwrap()\n",
      "\u001b[36mFile \u001b[39m\u001b[32m~/cheshire-cat-ai-tools/.pixi/envs/default/lib/python3.13/site-packages/weave/trace/vals.py:740\u001b[39m, in \u001b[36mWeaveDict.unwrap\u001b[39m\u001b[34m(self)\u001b[39m\n\u001b[32m    739\u001b[39m \u001b[38;5;28;01mdef\u001b[39;00m\u001b[38;5;250m \u001b[39m\u001b[34munwrap\u001b[39m(\u001b[38;5;28mself\u001b[39m) -> Any:\n\u001b[32m--> \u001b[39m\u001b[32m740\u001b[39m     \u001b[38;5;28;01mreturn\u001b[39;00m \u001b[43munwrap\u001b[49m\u001b[43m(\u001b[49m\u001b[38;5;28;43mdict\u001b[39;49m\u001b[43m(\u001b[49m\u001b[38;5;28;43mself\u001b[39;49m\u001b[43m.\u001b[49m\u001b[43mitems\u001b[49m\u001b[43m(\u001b[49m\u001b[43m)\u001b[49m\u001b[43m)\u001b[49m\u001b[43m)\u001b[49m\n",
      "\u001b[36mFile \u001b[39m\u001b[32m~/cheshire-cat-ai-tools/.pixi/envs/default/lib/python3.13/site-packages/weave/trace/vals.py:101\u001b[39m, in \u001b[36munwrap\u001b[39m\u001b[34m(val)\u001b[39m\n\u001b[32m     99\u001b[39m     \u001b[38;5;28;01mreturn\u001b[39;00m val.unwrap()\n\u001b[32m    100\u001b[39m \u001b[38;5;28;01melif\u001b[39;00m \u001b[38;5;28misinstance\u001b[39m(val, \u001b[38;5;28mdict\u001b[39m):\n\u001b[32m--> \u001b[39m\u001b[32m101\u001b[39m     \u001b[38;5;28;01mreturn\u001b[39;00m {k: \u001b[43munwrap\u001b[49m\u001b[43m(\u001b[49m\u001b[43mv\u001b[49m\u001b[43m)\u001b[49m \u001b[38;5;28;01mfor\u001b[39;00m k, v \u001b[38;5;129;01min\u001b[39;00m val.items()}\n\u001b[32m    102\u001b[39m \u001b[38;5;28;01melif\u001b[39;00m \u001b[38;5;28misinstance\u001b[39m(val, \u001b[38;5;28mlist\u001b[39m):\n\u001b[32m    103\u001b[39m     \u001b[38;5;28;01mreturn\u001b[39;00m [unwrap(v) \u001b[38;5;28;01mfor\u001b[39;00m v \u001b[38;5;129;01min\u001b[39;00m val]\n",
      "\u001b[36mFile \u001b[39m\u001b[32m~/cheshire-cat-ai-tools/.pixi/envs/default/lib/python3.13/site-packages/weave/trace/vals.py:97\u001b[39m, in \u001b[36munwrap\u001b[39m\u001b[34m(val)\u001b[39m\n\u001b[32m     95\u001b[39m \u001b[38;5;28;01mdef\u001b[39;00m\u001b[38;5;250m \u001b[39m\u001b[34munwrap\u001b[39m(val: Any) -> Any:\n\u001b[32m     96\u001b[39m     \u001b[38;5;28;01mif\u001b[39;00m \u001b[38;5;28misinstance\u001b[39m(val, Traceable):\n\u001b[32m---> \u001b[39m\u001b[32m97\u001b[39m         \u001b[38;5;28;01mreturn\u001b[39;00m \u001b[43mval\u001b[49m\u001b[43m.\u001b[49m\u001b[43munwrap\u001b[49m\u001b[43m(\u001b[49m\u001b[43m)\u001b[49m\n\u001b[32m     98\u001b[39m     \u001b[38;5;28;01melif\u001b[39;00m \u001b[38;5;28misinstance\u001b[39m(val, ObjectRecord):\n\u001b[32m     99\u001b[39m         \u001b[38;5;28;01mreturn\u001b[39;00m val.unwrap()\n",
      "\u001b[36mFile \u001b[39m\u001b[32m~/cheshire-cat-ai-tools/.pixi/envs/default/lib/python3.13/site-packages/weave/trace/vals.py:740\u001b[39m, in \u001b[36mWeaveDict.unwrap\u001b[39m\u001b[34m(self)\u001b[39m\n\u001b[32m    739\u001b[39m \u001b[38;5;28;01mdef\u001b[39;00m\u001b[38;5;250m \u001b[39m\u001b[34munwrap\u001b[39m(\u001b[38;5;28mself\u001b[39m) -> Any:\n\u001b[32m--> \u001b[39m\u001b[32m740\u001b[39m     \u001b[38;5;28;01mreturn\u001b[39;00m \u001b[43munwrap\u001b[49m\u001b[43m(\u001b[49m\u001b[38;5;28;43mdict\u001b[39;49m\u001b[43m(\u001b[49m\u001b[38;5;28;43mself\u001b[39;49m\u001b[43m.\u001b[49m\u001b[43mitems\u001b[49m\u001b[43m(\u001b[49m\u001b[43m)\u001b[49m\u001b[43m)\u001b[49m\u001b[43m)\u001b[49m\n",
      "\u001b[36mFile \u001b[39m\u001b[32m~/cheshire-cat-ai-tools/.pixi/envs/default/lib/python3.13/site-packages/weave/trace/vals.py:101\u001b[39m, in \u001b[36munwrap\u001b[39m\u001b[34m(val)\u001b[39m\n\u001b[32m     99\u001b[39m     \u001b[38;5;28;01mreturn\u001b[39;00m val.unwrap()\n\u001b[32m    100\u001b[39m \u001b[38;5;28;01melif\u001b[39;00m \u001b[38;5;28misinstance\u001b[39m(val, \u001b[38;5;28mdict\u001b[39m):\n\u001b[32m--> \u001b[39m\u001b[32m101\u001b[39m     \u001b[38;5;28;01mreturn\u001b[39;00m {k: \u001b[43munwrap\u001b[49m\u001b[43m(\u001b[49m\u001b[43mv\u001b[49m\u001b[43m)\u001b[49m \u001b[38;5;28;01mfor\u001b[39;00m k, v \u001b[38;5;129;01min\u001b[39;00m val.items()}\n\u001b[32m    102\u001b[39m \u001b[38;5;28;01melif\u001b[39;00m \u001b[38;5;28misinstance\u001b[39m(val, \u001b[38;5;28mlist\u001b[39m):\n\u001b[32m    103\u001b[39m     \u001b[38;5;28;01mreturn\u001b[39;00m [unwrap(v) \u001b[38;5;28;01mfor\u001b[39;00m v \u001b[38;5;129;01min\u001b[39;00m val]\n",
      "\u001b[36mFile \u001b[39m\u001b[32m~/cheshire-cat-ai-tools/.pixi/envs/default/lib/python3.13/site-packages/weave/trace/vals.py:97\u001b[39m, in \u001b[36munwrap\u001b[39m\u001b[34m(val)\u001b[39m\n\u001b[32m     95\u001b[39m \u001b[38;5;28;01mdef\u001b[39;00m\u001b[38;5;250m \u001b[39m\u001b[34munwrap\u001b[39m(val: Any) -> Any:\n\u001b[32m     96\u001b[39m     \u001b[38;5;28;01mif\u001b[39;00m \u001b[38;5;28misinstance\u001b[39m(val, Traceable):\n\u001b[32m---> \u001b[39m\u001b[32m97\u001b[39m         \u001b[38;5;28;01mreturn\u001b[39;00m \u001b[43mval\u001b[49m\u001b[43m.\u001b[49m\u001b[43munwrap\u001b[49m\u001b[43m(\u001b[49m\u001b[43m)\u001b[49m\n\u001b[32m     98\u001b[39m     \u001b[38;5;28;01melif\u001b[39;00m \u001b[38;5;28misinstance\u001b[39m(val, ObjectRecord):\n\u001b[32m     99\u001b[39m         \u001b[38;5;28;01mreturn\u001b[39;00m val.unwrap()\n",
      "\u001b[36mFile \u001b[39m\u001b[32m~/cheshire-cat-ai-tools/.pixi/envs/default/lib/python3.13/site-packages/weave/trace/vals.py:655\u001b[39m, in \u001b[36mWeaveList.unwrap\u001b[39m\u001b[34m(self)\u001b[39m\n\u001b[32m    654\u001b[39m \u001b[38;5;28;01mdef\u001b[39;00m\u001b[38;5;250m \u001b[39m\u001b[34munwrap\u001b[39m(\u001b[38;5;28mself\u001b[39m) -> Any:\n\u001b[32m--> \u001b[39m\u001b[32m655\u001b[39m     \u001b[38;5;28;01mreturn\u001b[39;00m \u001b[43munwrap\u001b[49m\u001b[43m(\u001b[49m\u001b[38;5;28;43mlist\u001b[39;49m\u001b[43m(\u001b[49m\u001b[38;5;28;43mself\u001b[39;49m\u001b[43m)\u001b[49m\u001b[43m)\u001b[49m\n",
      "\u001b[36mFile \u001b[39m\u001b[32m~/cheshire-cat-ai-tools/.pixi/envs/default/lib/python3.13/site-packages/weave/trace/vals.py:103\u001b[39m, in \u001b[36munwrap\u001b[39m\u001b[34m(val)\u001b[39m\n\u001b[32m    101\u001b[39m     \u001b[38;5;28;01mreturn\u001b[39;00m {k: unwrap(v) \u001b[38;5;28;01mfor\u001b[39;00m k, v \u001b[38;5;129;01min\u001b[39;00m val.items()}\n\u001b[32m    102\u001b[39m \u001b[38;5;28;01melif\u001b[39;00m \u001b[38;5;28misinstance\u001b[39m(val, \u001b[38;5;28mlist\u001b[39m):\n\u001b[32m--> \u001b[39m\u001b[32m103\u001b[39m     \u001b[38;5;28;01mreturn\u001b[39;00m [\u001b[43munwrap\u001b[49m\u001b[43m(\u001b[49m\u001b[43mv\u001b[49m\u001b[43m)\u001b[49m \u001b[38;5;28;01mfor\u001b[39;00m v \u001b[38;5;129;01min\u001b[39;00m val]\n\u001b[32m    104\u001b[39m \u001b[38;5;28;01melif\u001b[39;00m \u001b[38;5;28misinstance\u001b[39m(val, \u001b[38;5;28mtuple\u001b[39m):\n\u001b[32m    105\u001b[39m     \u001b[38;5;28;01mreturn\u001b[39;00m \u001b[38;5;28mtuple\u001b[39m(unwrap(v) \u001b[38;5;28;01mfor\u001b[39;00m v \u001b[38;5;129;01min\u001b[39;00m val)\n",
      "\u001b[36mFile \u001b[39m\u001b[32m~/cheshire-cat-ai-tools/.pixi/envs/default/lib/python3.13/site-packages/weave/trace/vals.py:97\u001b[39m, in \u001b[36munwrap\u001b[39m\u001b[34m(val)\u001b[39m\n\u001b[32m     95\u001b[39m \u001b[38;5;28;01mdef\u001b[39;00m\u001b[38;5;250m \u001b[39m\u001b[34munwrap\u001b[39m(val: Any) -> Any:\n\u001b[32m     96\u001b[39m     \u001b[38;5;28;01mif\u001b[39;00m \u001b[38;5;28misinstance\u001b[39m(val, Traceable):\n\u001b[32m---> \u001b[39m\u001b[32m97\u001b[39m         \u001b[38;5;28;01mreturn\u001b[39;00m \u001b[43mval\u001b[49m\u001b[43m.\u001b[49m\u001b[43munwrap\u001b[49m\u001b[43m(\u001b[49m\u001b[43m)\u001b[49m\n\u001b[32m     98\u001b[39m     \u001b[38;5;28;01melif\u001b[39;00m \u001b[38;5;28misinstance\u001b[39m(val, ObjectRecord):\n\u001b[32m     99\u001b[39m         \u001b[38;5;28;01mreturn\u001b[39;00m val.unwrap()\n",
      "\u001b[36mFile \u001b[39m\u001b[32m~/cheshire-cat-ai-tools/.pixi/envs/default/lib/python3.13/site-packages/weave/trace/vals.py:740\u001b[39m, in \u001b[36mWeaveDict.unwrap\u001b[39m\u001b[34m(self)\u001b[39m\n\u001b[32m    739\u001b[39m \u001b[38;5;28;01mdef\u001b[39;00m\u001b[38;5;250m \u001b[39m\u001b[34munwrap\u001b[39m(\u001b[38;5;28mself\u001b[39m) -> Any:\n\u001b[32m--> \u001b[39m\u001b[32m740\u001b[39m     \u001b[38;5;28;01mreturn\u001b[39;00m \u001b[43munwrap\u001b[49m\u001b[43m(\u001b[49m\u001b[38;5;28;43mdict\u001b[39;49m\u001b[43m(\u001b[49m\u001b[38;5;28;43mself\u001b[39;49m\u001b[43m.\u001b[49m\u001b[43mitems\u001b[49m\u001b[43m(\u001b[49m\u001b[43m)\u001b[49m\u001b[43m)\u001b[49m\u001b[43m)\u001b[49m\n",
      "\u001b[36mFile \u001b[39m\u001b[32m~/cheshire-cat-ai-tools/.pixi/envs/default/lib/python3.13/site-packages/weave/trace/vals.py:101\u001b[39m, in \u001b[36munwrap\u001b[39m\u001b[34m(val)\u001b[39m\n\u001b[32m     99\u001b[39m     \u001b[38;5;28;01mreturn\u001b[39;00m val.unwrap()\n\u001b[32m    100\u001b[39m \u001b[38;5;28;01melif\u001b[39;00m \u001b[38;5;28misinstance\u001b[39m(val, \u001b[38;5;28mdict\u001b[39m):\n\u001b[32m--> \u001b[39m\u001b[32m101\u001b[39m     \u001b[38;5;28;01mreturn\u001b[39;00m {k: \u001b[43munwrap\u001b[49m\u001b[43m(\u001b[49m\u001b[43mv\u001b[49m\u001b[43m)\u001b[49m \u001b[38;5;28;01mfor\u001b[39;00m k, v \u001b[38;5;129;01min\u001b[39;00m val.items()}\n\u001b[32m    102\u001b[39m \u001b[38;5;28;01melif\u001b[39;00m \u001b[38;5;28misinstance\u001b[39m(val, \u001b[38;5;28mlist\u001b[39m):\n\u001b[32m    103\u001b[39m     \u001b[38;5;28;01mreturn\u001b[39;00m [unwrap(v) \u001b[38;5;28;01mfor\u001b[39;00m v \u001b[38;5;129;01min\u001b[39;00m val]\n",
      "\u001b[36mFile \u001b[39m\u001b[32m~/cheshire-cat-ai-tools/.pixi/envs/default/lib/python3.13/site-packages/weave/trace/vals.py:97\u001b[39m, in \u001b[36munwrap\u001b[39m\u001b[34m(val)\u001b[39m\n\u001b[32m     95\u001b[39m \u001b[38;5;28;01mdef\u001b[39;00m\u001b[38;5;250m \u001b[39m\u001b[34munwrap\u001b[39m(val: Any) -> Any:\n\u001b[32m     96\u001b[39m     \u001b[38;5;28;01mif\u001b[39;00m \u001b[38;5;28misinstance\u001b[39m(val, Traceable):\n\u001b[32m---> \u001b[39m\u001b[32m97\u001b[39m         \u001b[38;5;28;01mreturn\u001b[39;00m \u001b[43mval\u001b[49m\u001b[43m.\u001b[49m\u001b[43munwrap\u001b[49m\u001b[43m(\u001b[49m\u001b[43m)\u001b[49m\n\u001b[32m     98\u001b[39m     \u001b[38;5;28;01melif\u001b[39;00m \u001b[38;5;28misinstance\u001b[39m(val, ObjectRecord):\n\u001b[32m     99\u001b[39m         \u001b[38;5;28;01mreturn\u001b[39;00m val.unwrap()\n",
      "\u001b[36mFile \u001b[39m\u001b[32m~/cheshire-cat-ai-tools/.pixi/envs/default/lib/python3.13/site-packages/weave/trace/vals.py:655\u001b[39m, in \u001b[36mWeaveList.unwrap\u001b[39m\u001b[34m(self)\u001b[39m\n\u001b[32m    654\u001b[39m \u001b[38;5;28;01mdef\u001b[39;00m\u001b[38;5;250m \u001b[39m\u001b[34munwrap\u001b[39m(\u001b[38;5;28mself\u001b[39m) -> Any:\n\u001b[32m--> \u001b[39m\u001b[32m655\u001b[39m     \u001b[38;5;28;01mreturn\u001b[39;00m unwrap(\u001b[38;5;28;43mlist\u001b[39;49m\u001b[43m(\u001b[49m\u001b[38;5;28;43mself\u001b[39;49m\u001b[43m)\u001b[49m)\n",
      "\u001b[36mFile \u001b[39m\u001b[32m~/cheshire-cat-ai-tools/.pixi/envs/default/lib/python3.13/site-packages/weave/trace/vals.py:639\u001b[39m, in \u001b[36mWeaveList.__iter__\u001b[39m\u001b[34m(self)\u001b[39m\n\u001b[32m    637\u001b[39m \u001b[38;5;28;01mdef\u001b[39;00m\u001b[38;5;250m \u001b[39m\u001b[34m__iter__\u001b[39m(\u001b[38;5;28mself\u001b[39m) -> Iterator[Any]:\n\u001b[32m    638\u001b[39m     \u001b[38;5;28;01mfor\u001b[39;00m i \u001b[38;5;129;01min\u001b[39;00m \u001b[38;5;28mrange\u001b[39m(\u001b[38;5;28mlen\u001b[39m(\u001b[38;5;28mself\u001b[39m)):\n\u001b[32m--> \u001b[39m\u001b[32m639\u001b[39m         \u001b[38;5;28;01myield\u001b[39;00m \u001b[38;5;28;43mself\u001b[39;49m\u001b[43m[\u001b[49m\u001b[43mi\u001b[49m\u001b[43m]\u001b[49m\n",
      "\u001b[36mFile \u001b[39m\u001b[32m~/cheshire-cat-ai-tools/.pixi/envs/default/lib/python3.13/site-packages/weave/trace/vals.py:611\u001b[39m, in \u001b[36mWeaveList.__getitem__\u001b[39m\u001b[34m(self, i)\u001b[39m\n\u001b[32m    609\u001b[39m     \u001b[38;5;28;01mraise\u001b[39;00m \u001b[38;5;167;01mTypeError\u001b[39;00m(\u001b[33m\"\u001b[39m\u001b[33mSlices not yet supported\u001b[39m\u001b[33m\"\u001b[39m)\n\u001b[32m    610\u001b[39m index = operator.index(i)\n\u001b[32m--> \u001b[39m\u001b[32m611\u001b[39m new_ref = \u001b[38;5;28;43mself\u001b[39;49m\u001b[43m.\u001b[49m\u001b[43mref\u001b[49m\u001b[43m.\u001b[49m\u001b[43mwith_index\u001b[49m\u001b[43m(\u001b[49m\u001b[43mindex\u001b[49m\u001b[43m)\u001b[49m \u001b[38;5;28;01mif\u001b[39;00m \u001b[38;5;28mself\u001b[39m.ref \u001b[38;5;28;01melse\u001b[39;00m \u001b[38;5;28;01mNone\u001b[39;00m\n\u001b[32m    612\u001b[39m index_val = \u001b[38;5;28msuper\u001b[39m().\u001b[34m__getitem__\u001b[39m(index)\n\u001b[32m    613\u001b[39m \u001b[38;5;28;01mreturn\u001b[39;00m make_trace_obj(index_val, new_ref, \u001b[38;5;28mself\u001b[39m.server, \u001b[38;5;28mself\u001b[39m.root)\n",
      "\u001b[36mFile \u001b[39m\u001b[32m~/cheshire-cat-ai-tools/.pixi/envs/default/lib/python3.13/site-packages/weave/trace/refs.py:151\u001b[39m, in \u001b[36mRefWithExtra.with_index\u001b[39m\u001b[34m(self, index)\u001b[39m\n\u001b[32m    150\u001b[39m \u001b[38;5;28;01mdef\u001b[39;00m\u001b[38;5;250m \u001b[39m\u001b[34mwith_index\u001b[39m(\u001b[38;5;28mself\u001b[39m, index: \u001b[38;5;28mint\u001b[39m) -> Self:\n\u001b[32m--> \u001b[39m\u001b[32m151\u001b[39m     \u001b[38;5;28;01mreturn\u001b[39;00m \u001b[38;5;28;43mself\u001b[39;49m\u001b[43m.\u001b[49m\u001b[43mwith_extra\u001b[49m\u001b[43m(\u001b[49m\u001b[43m(\u001b[49m\u001b[43mLIST_INDEX_EDGE_NAME\u001b[49m\u001b[43m,\u001b[49m\u001b[43m \u001b[49m\u001b[38;5;28;43mstr\u001b[39;49m\u001b[43m(\u001b[49m\u001b[43mindex\u001b[49m\u001b[43m)\u001b[49m\u001b[43m)\u001b[49m\u001b[43m)\u001b[49m\n",
      "\u001b[36mFile \u001b[39m\u001b[32m~/cheshire-cat-ai-tools/.pixi/envs/default/lib/python3.13/site-packages/weave/trace/refs.py:142\u001b[39m, in \u001b[36mRefWithExtra.with_extra\u001b[39m\u001b[34m(self, extra)\u001b[39m\n\u001b[32m    140\u001b[39m params = \u001b[38;5;28mself\u001b[39m.as_param_dict()\n\u001b[32m    141\u001b[39m params[\u001b[33m\"\u001b[39m\u001b[33m_extra\u001b[39m\u001b[33m\"\u001b[39m] = \u001b[38;5;28mself\u001b[39m._extra + \u001b[38;5;28mtuple\u001b[39m(extra)  \u001b[38;5;66;03m# type: ignore\u001b[39;00m\n\u001b[32m--> \u001b[39m\u001b[32m142\u001b[39m \u001b[38;5;28;01mreturn\u001b[39;00m \u001b[38;5;28;43mself\u001b[39;49m\u001b[43m.\u001b[49m\u001b[34;43m__class__\u001b[39;49m\u001b[43m(\u001b[49m\u001b[43m*\u001b[49m\u001b[43m*\u001b[49m\u001b[43mparams\u001b[49m\u001b[43m)\u001b[49m\n",
      "\u001b[31mKeyboardInterrupt\u001b[39m: "
     ]
    },
    {
     "name": "stderr",
     "output_type": "stream",
     "text": [
      "\u001b[36m\u001b[1mweave\u001b[0m: 🍩 https://wandb.ai/smart-drying-unitus/declarative-eval/r/call/01992df7-3180-7fec-8e3c-407c90711749\n",
      "INFO:weave.trace.weave_client:🍩 https://wandb.ai/smart-drying-unitus/declarative-eval/r/call/01992df7-3180-7fec-8e3c-407c90711749\n"
     ]
    }
   ],
   "source": [
    "df = parse_calls(calls)"
   ]
  },
  {
   "cell_type": "code",
   "execution_count": null,
   "id": "1103edd1",
   "metadata": {},
   "outputs": [
    {
     "data": {
      "text/html": [
       "<div>\n",
       "<style scoped>\n",
       "    .dataframe tbody tr th:only-of-type {\n",
       "        vertical-align: middle;\n",
       "    }\n",
       "\n",
       "    .dataframe tbody tr th {\n",
       "        vertical-align: top;\n",
       "    }\n",
       "\n",
       "    .dataframe thead th {\n",
       "        text-align: right;\n",
       "    }\n",
       "</style>\n",
       "<table border=\"1\" class=\"dataframe\">\n",
       "  <thead>\n",
       "    <tr style=\"text-align: right;\">\n",
       "      <th></th>\n",
       "      <th>question_id</th>\n",
       "      <th>question</th>\n",
       "      <th>expected_answer</th>\n",
       "      <th>model_name</th>\n",
       "      <th>weave_call</th>\n",
       "      <th>has_declarative_memory</th>\n",
       "      <th>model_answer</th>\n",
       "      <th>similarity_score</th>\n",
       "    </tr>\n",
       "  </thead>\n",
       "  <tbody>\n",
       "    <tr>\n",
       "      <th>0</th>\n",
       "      <td>0.0</td>\n",
       "      <td>Che cos'è la disidratazione a flusso di aria c...</td>\n",
       "      <td>La disidratazione a flusso di aria calda è un ...</td>\n",
       "      <td>deepseek_best</td>\n",
       "      <td>WeaveObject(Call(_op_name='weave:///smart-dryi...</td>\n",
       "      <td>False</td>\n",
       "      <td>NaN</td>\n",
       "      <td>NaN</td>\n",
       "    </tr>\n",
       "    <tr>\n",
       "      <th>1</th>\n",
       "      <td>1.0</td>\n",
       "      <td>Qual è l'obiettivo principale del processo di ...</td>\n",
       "      <td>L'obiettivo principale del processo di disidra...</td>\n",
       "      <td>deepseek_best</td>\n",
       "      <td>WeaveObject(Call(_op_name='weave:///smart-dryi...</td>\n",
       "      <td>False</td>\n",
       "      <td>NaN</td>\n",
       "      <td>NaN</td>\n",
       "    </tr>\n",
       "    <tr>\n",
       "      <th>2</th>\n",
       "      <td>2.0</td>\n",
       "      <td>Quali sono i principali parametri da controlla...</td>\n",
       "      <td>Durante la disidratazione a flusso di aria cal...</td>\n",
       "      <td>deepseek_best</td>\n",
       "      <td>WeaveObject(Call(_op_name='weave:///smart-dryi...</td>\n",
       "      <td>False</td>\n",
       "      <td>NaN</td>\n",
       "      <td>NaN</td>\n",
       "    </tr>\n",
       "    <tr>\n",
       "      <th>3</th>\n",
       "      <td>3.0</td>\n",
       "      <td>Quali fenomeni fisici avvengono durante la dis...</td>\n",
       "      <td>Durante la disidratazione di un alimento avven...</td>\n",
       "      <td>deepseek_best</td>\n",
       "      <td>WeaveObject(Call(_op_name='weave:///smart-dryi...</td>\n",
       "      <td>False</td>\n",
       "      <td>NaN</td>\n",
       "      <td>NaN</td>\n",
       "    </tr>\n",
       "    <tr>\n",
       "      <th>4</th>\n",
       "      <td>4.0</td>\n",
       "      <td>Quali vantaggi offre la disidratazione oltre a...</td>\n",
       "      <td>Oltre alla conservazione, la disidratazione of...</td>\n",
       "      <td>deepseek_best</td>\n",
       "      <td>WeaveObject(Call(_op_name='weave:///smart-dryi...</td>\n",
       "      <td>False</td>\n",
       "      <td>NaN</td>\n",
       "      <td>NaN</td>\n",
       "    </tr>\n",
       "    <tr>\n",
       "      <th>...</th>\n",
       "      <td>...</td>\n",
       "      <td>...</td>\n",
       "      <td>...</td>\n",
       "      <td>...</td>\n",
       "      <td>...</td>\n",
       "      <td>...</td>\n",
       "      <td>...</td>\n",
       "      <td>...</td>\n",
       "    </tr>\n",
       "    <tr>\n",
       "      <th>3201</th>\n",
       "      <td>332.0</td>\n",
       "      <td>Come vengono caricati e scaricati i contenitor...</td>\n",
       "      <td>I contenitori del prodotto vengono caricati e ...</td>\n",
       "      <td>openai_best</td>\n",
       "      <td>WeaveObject(Call(_op_name='weave:///smart-dryi...</td>\n",
       "      <td>True</td>\n",
       "      <td>I contenitori vengono caricati e scaricati att...</td>\n",
       "      <td>0.983811</td>\n",
       "    </tr>\n",
       "    <tr>\n",
       "      <th>3202</th>\n",
       "      <td>333.0</td>\n",
       "      <td>In che modo questo essiccatore gestisce il ric...</td>\n",
       "      <td>Questo essiccatore gestisce il ricircolo dell'...</td>\n",
       "      <td>openai_best</td>\n",
       "      <td>WeaveObject(Call(_op_name='weave:///smart-dryi...</td>\n",
       "      <td>True</td>\n",
       "      <td>Gestisce il ricircolo tramite un passaggio ret...</td>\n",
       "      <td>0.924412</td>\n",
       "    </tr>\n",
       "    <tr>\n",
       "      <th>3203</th>\n",
       "      <td>334.0</td>\n",
       "      <td>Perché le pareti dell'essiccatore sono realizz...</td>\n",
       "      <td>Le pareti dell'essiccatore sono realizzate con...</td>\n",
       "      <td>openai_best</td>\n",
       "      <td>WeaveObject(Call(_op_name='weave:///smart-dryi...</td>\n",
       "      <td>True</td>\n",
       "      <td>Per garantire isolamento, efficienza e durata....</td>\n",
       "      <td>0.892559</td>\n",
       "    </tr>\n",
       "    <tr>\n",
       "      <th>3204</th>\n",
       "      <td>335.0</td>\n",
       "      <td>È possibile impostare diverse temperature per ...</td>\n",
       "      <td>Sì, il pannello di controllo di questo essicca...</td>\n",
       "      <td>openai_best</td>\n",
       "      <td>WeaveObject(Call(_op_name='weave:///smart-dryi...</td>\n",
       "      <td>True</td>\n",
       "      <td>Sì. Il pannello di controllo consente di impos...</td>\n",
       "      <td>0.956343</td>\n",
       "    </tr>\n",
       "    <tr>\n",
       "      <th>3205</th>\n",
       "      <td>NaN</td>\n",
       "      <td>NaN</td>\n",
       "      <td>NaN</td>\n",
       "      <td>openai_best</td>\n",
       "      <td>WeaveObject(Call(_op_name='weave:///smart-dryi...</td>\n",
       "      <td>True</td>\n",
       "      <td>NaN</td>\n",
       "      <td>NaN</td>\n",
       "    </tr>\n",
       "  </tbody>\n",
       "</table>\n",
       "<p>3206 rows × 8 columns</p>\n",
       "</div>"
      ],
      "text/plain": [
       "      question_id                                           question  \\\n",
       "0             0.0  Che cos'è la disidratazione a flusso di aria c...   \n",
       "1             1.0  Qual è l'obiettivo principale del processo di ...   \n",
       "2             2.0  Quali sono i principali parametri da controlla...   \n",
       "3             3.0  Quali fenomeni fisici avvengono durante la dis...   \n",
       "4             4.0  Quali vantaggi offre la disidratazione oltre a...   \n",
       "...           ...                                                ...   \n",
       "3201        332.0  Come vengono caricati e scaricati i contenitor...   \n",
       "3202        333.0  In che modo questo essiccatore gestisce il ric...   \n",
       "3203        334.0  Perché le pareti dell'essiccatore sono realizz...   \n",
       "3204        335.0  È possibile impostare diverse temperature per ...   \n",
       "3205          NaN                                                NaN   \n",
       "\n",
       "                                        expected_answer     model_name  \\\n",
       "0     La disidratazione a flusso di aria calda è un ...  deepseek_best   \n",
       "1     L'obiettivo principale del processo di disidra...  deepseek_best   \n",
       "2     Durante la disidratazione a flusso di aria cal...  deepseek_best   \n",
       "3     Durante la disidratazione di un alimento avven...  deepseek_best   \n",
       "4     Oltre alla conservazione, la disidratazione of...  deepseek_best   \n",
       "...                                                 ...            ...   \n",
       "3201  I contenitori del prodotto vengono caricati e ...    openai_best   \n",
       "3202  Questo essiccatore gestisce il ricircolo dell'...    openai_best   \n",
       "3203  Le pareti dell'essiccatore sono realizzate con...    openai_best   \n",
       "3204  Sì, il pannello di controllo di questo essicca...    openai_best   \n",
       "3205                                                NaN    openai_best   \n",
       "\n",
       "                                             weave_call  \\\n",
       "0     WeaveObject(Call(_op_name='weave:///smart-dryi...   \n",
       "1     WeaveObject(Call(_op_name='weave:///smart-dryi...   \n",
       "2     WeaveObject(Call(_op_name='weave:///smart-dryi...   \n",
       "3     WeaveObject(Call(_op_name='weave:///smart-dryi...   \n",
       "4     WeaveObject(Call(_op_name='weave:///smart-dryi...   \n",
       "...                                                 ...   \n",
       "3201  WeaveObject(Call(_op_name='weave:///smart-dryi...   \n",
       "3202  WeaveObject(Call(_op_name='weave:///smart-dryi...   \n",
       "3203  WeaveObject(Call(_op_name='weave:///smart-dryi...   \n",
       "3204  WeaveObject(Call(_op_name='weave:///smart-dryi...   \n",
       "3205  WeaveObject(Call(_op_name='weave:///smart-dryi...   \n",
       "\n",
       "      has_declarative_memory  \\\n",
       "0                      False   \n",
       "1                      False   \n",
       "2                      False   \n",
       "3                      False   \n",
       "4                      False   \n",
       "...                      ...   \n",
       "3201                    True   \n",
       "3202                    True   \n",
       "3203                    True   \n",
       "3204                    True   \n",
       "3205                    True   \n",
       "\n",
       "                                           model_answer  similarity_score  \n",
       "0                                                   NaN               NaN  \n",
       "1                                                   NaN               NaN  \n",
       "2                                                   NaN               NaN  \n",
       "3                                                   NaN               NaN  \n",
       "4                                                   NaN               NaN  \n",
       "...                                                 ...               ...  \n",
       "3201  I contenitori vengono caricati e scaricati att...          0.983811  \n",
       "3202  Gestisce il ricircolo tramite un passaggio ret...          0.924412  \n",
       "3203  Per garantire isolamento, efficienza e durata....          0.892559  \n",
       "3204  Sì. Il pannello di controllo consente di impos...          0.956343  \n",
       "3205                                                NaN               NaN  \n",
       "\n",
       "[3206 rows x 8 columns]"
      ]
     },
     "execution_count": null,
     "metadata": {},
     "output_type": "execute_result"
    }
   ],
   "source": [
    "df"
   ]
  },
  {
   "cell_type": "code",
   "execution_count": null,
   "id": "350a5fb7",
   "metadata": {},
   "outputs": [],
   "source": [
    "call = calls[0]"
   ]
  },
  {
   "cell_type": "code",
   "execution_count": null,
   "id": "217b24b7",
   "metadata": {},
   "outputs": [
    {
     "data": {
      "text/plain": [
       "'09-03 15:20 Eval - deepseek_best NO memory'"
      ]
     },
     "execution_count": null,
     "metadata": {},
     "output_type": "execute_result"
    }
   ],
   "source": [
    "call.display_name"
   ]
  },
  {
   "cell_type": "code",
   "execution_count": null,
   "id": "f7004009",
   "metadata": {},
   "outputs": [],
   "source": []
  },
  {
   "cell_type": "code",
   "execution_count": null,
   "id": "433b12c0",
   "metadata": {},
   "outputs": [],
   "source": [
    "df_pl = pl.from_pandas(df.drop(columns=['weave_call']))"
   ]
  },
  {
   "cell_type": "code",
   "execution_count": null,
   "id": "a6976d88",
   "metadata": {},
   "outputs": [
    {
     "data": {
      "text/html": [
       "<div><style>\n",
       ".dataframe > thead > tr,\n",
       ".dataframe > tbody > tr {\n",
       "  text-align: right;\n",
       "  white-space: pre-wrap;\n",
       "}\n",
       "</style>\n",
       "<small>shape: (10, 4)</small><table border=\"1\" class=\"dataframe\"><thead><tr><th>model_name</th><th>has_declarative_memory</th><th>frac_answers</th><th>frac_scores</th></tr><tr><td>str</td><td>bool</td><td>f64</td><td>f64</td></tr></thead><tbody><tr><td>&quot;deepseek_best&quot;</td><td>false</td><td>0.0</td><td>0.0</td></tr><tr><td>&quot;gemini_best&quot;</td><td>false</td><td>0.910714</td><td>0.910714</td></tr><tr><td>&quot;gemma_best&quot;</td><td>false</td><td>0.0</td><td>0.0</td></tr><tr><td>&quot;openai_best&quot;</td><td>false</td><td>0.404762</td><td>0.404762</td></tr><tr><td>&quot;qwen_best&quot;</td><td>false</td><td>0.0</td><td>0.0</td></tr><tr><td>&quot;deepseek_best&quot;</td><td>true</td><td>0.892857</td><td>0.892857</td></tr><tr><td>&quot;gemini_best&quot;</td><td>true</td><td>0.991071</td><td>0.991071</td></tr><tr><td>&quot;gemma_best&quot;</td><td>true</td><td>0.997024</td><td>0.997024</td></tr><tr><td>&quot;openai_best&quot;</td><td>true</td><td>0.985119</td><td>0.985119</td></tr><tr><td>&quot;qwen_best&quot;</td><td>true</td><td>0.85119</td><td>0.85119</td></tr></tbody></table></div>"
      ],
      "text/plain": [
       "shape: (10, 4)\n",
       "┌───────────────┬────────────────────────┬──────────────┬─────────────┐\n",
       "│ model_name    ┆ has_declarative_memory ┆ frac_answers ┆ frac_scores │\n",
       "│ ---           ┆ ---                    ┆ ---          ┆ ---         │\n",
       "│ str           ┆ bool                   ┆ f64          ┆ f64         │\n",
       "╞═══════════════╪════════════════════════╪══════════════╪═════════════╡\n",
       "│ deepseek_best ┆ false                  ┆ 0.0          ┆ 0.0         │\n",
       "│ gemini_best   ┆ false                  ┆ 0.910714     ┆ 0.910714    │\n",
       "│ gemma_best    ┆ false                  ┆ 0.0          ┆ 0.0         │\n",
       "│ openai_best   ┆ false                  ┆ 0.404762     ┆ 0.404762    │\n",
       "│ qwen_best     ┆ false                  ┆ 0.0          ┆ 0.0         │\n",
       "│ deepseek_best ┆ true                   ┆ 0.892857     ┆ 0.892857    │\n",
       "│ gemini_best   ┆ true                   ┆ 0.991071     ┆ 0.991071    │\n",
       "│ gemma_best    ┆ true                   ┆ 0.997024     ┆ 0.997024    │\n",
       "│ openai_best   ┆ true                   ┆ 0.985119     ┆ 0.985119    │\n",
       "│ qwen_best     ┆ true                   ┆ 0.85119      ┆ 0.85119     │\n",
       "└───────────────┴────────────────────────┴──────────────┴─────────────┘"
      ]
     },
     "execution_count": null,
     "metadata": {},
     "output_type": "execute_result"
    }
   ],
   "source": [
    "df_pl.group_by(c.model_name, c.has_declarative_memory).agg(frac_answers = c.model_answer.is_not_null().sum() / 336, frac_scores = c.similarity_score.is_not_null().sum() / 336).sort(c.has_declarative_memory, c.model_name)"
   ]
  },
  {
   "cell_type": "code",
   "execution_count": null,
   "id": "c259d71a",
   "metadata": {},
   "outputs": [],
   "source": [
    "missing = df_pl.filter(c.model_answer.is_null()).group_by(c.model_name, c.has_declarative_memory).agg(question = c.question, target = c.expected_answer, id = c.question_id.cast(pl.Int64), n = pl.len()).sort(c.has_declarative_memory)"
   ]
  },
  {
   "cell_type": "code",
   "execution_count": null,
   "id": "0de3addb",
   "metadata": {},
   "outputs": [
    {
     "data": {
      "text/html": [
       "<div><style>\n",
       ".dataframe > thead > tr,\n",
       ".dataframe > tbody > tr {\n",
       "  text-align: right;\n",
       "  white-space: pre-wrap;\n",
       "}\n",
       "</style>\n",
       "<small>shape: (10, 6)</small><table border=\"1\" class=\"dataframe\"><thead><tr><th>model_name</th><th>has_declarative_memory</th><th>question</th><th>target</th><th>id</th><th>n</th></tr><tr><td>str</td><td>bool</td><td>list[str]</td><td>list[str]</td><td>list[i64]</td><td>u32</td></tr></thead><tbody><tr><td>&quot;gemma_best&quot;</td><td>false</td><td>[&quot;Che cos&#x27;è la disidratazione a flusso di aria calda applicata agli alimenti?&quot;, &quot;Qual è l&#x27;obiettivo principale del processo di disidratazione?&quot;, … null]</td><td>[&quot;La disidratazione a flusso di aria calda è un processo tecnologico che consiste nell&#x27;applicare calore a un alimento in condizioni controllate. Lo scopo è rimuovere gran parte dell&#x27;acqua contenuta al suo interno tramite evaporazione, trasformandola in vapore acqueo che viene poi allontanato.&quot;, &quot;L&#x27;obiettivo principale del processo di disidratazione è la conservazione dell&#x27;alimento. Riducendo il contenuto di acqua, si abbassa l&#x27;attività dell&#x27;acqua (aw), un parametro che inibisce la crescita di microrganismi (come batteri, lieviti e muffe) e rallenta le reazioni enzimatiche che causano il deterioramento del prodotto, estendendone così la durata di conservazione (shelf-life).&quot;, … null]</td><td>[0, 1, … null]</td><td>337</td></tr><tr><td>&quot;openai_best&quot;</td><td>false</td><td>[&quot;Che cos&#x27;è la Computer Vision (CV) in parole semplici?&quot;, &quot;Quali sono le principali cause chimiche della diminuzione del WI e come si prevengono?&quot;, … null]</td><td>[&quot;La Computer Vision è una branca dell&#x27;intelligenza artificiale che ha lo scopo di dare ai computer la capacità di &#x27;vedere&#x27; e interpretare il mondo visivo. Utilizzando una telecamera e algoritmi software, un sistema di CV può estrarre, analizzare e comprendere informazioni utili da un&#x27;immagine o da un video, in modo automatico.&quot;, &quot;Le principali cause chimiche della diminuzione del WI sono le reazioni di imbrunimento, sia enzimatico (causato da enzimi come la polifenolossidasi) sia non enzimatico (Reazione di Maillard). Si prevengono rispettivamente con pre-trattamenti specifici (es. scottatura, acidificazione) per inattivare gli enzimi e con un attento controllo della temperatura di processo per limitare la reazione di Maillard.&quot;, … null]</td><td>[100, 137, … null]</td><td>201</td></tr><tr><td>&quot;qwen_best&quot;</td><td>false</td><td>[&quot;Che cos&#x27;è la disidratazione a flusso di aria calda applicata agli alimenti?&quot;, &quot;Qual è l&#x27;obiettivo principale del processo di disidratazione?&quot;, … null]</td><td>[&quot;La disidratazione a flusso di aria calda è un processo tecnologico che consiste nell&#x27;applicare calore a un alimento in condizioni controllate. Lo scopo è rimuovere gran parte dell&#x27;acqua contenuta al suo interno tramite evaporazione, trasformandola in vapore acqueo che viene poi allontanato.&quot;, &quot;L&#x27;obiettivo principale del processo di disidratazione è la conservazione dell&#x27;alimento. Riducendo il contenuto di acqua, si abbassa l&#x27;attività dell&#x27;acqua (aw), un parametro che inibisce la crescita di microrganismi (come batteri, lieviti e muffe) e rallenta le reazioni enzimatiche che causano il deterioramento del prodotto, estendendone così la durata di conservazione (shelf-life).&quot;, … null]</td><td>[0, 1, … null]</td><td>337</td></tr><tr><td>&quot;gemini_best&quot;</td><td>false</td><td>[&quot;L&#x27;attività dell&#x27;acqua (aw) del prodotto finito ha un ruolo nella degradazione dei caroteni durante la conservazione?&quot;, &quot;In che modo la combinazione di temperatura e tempo di processo influisce sulla conservazione dei pigmenti?&quot;, … null]</td><td>[&quot;Sì, l&#x27;attività dell&#x27;acqua (aw) del prodotto finito ha un ruolo importante. Valori di aw non ottimali possono influenzare la mobilità dei reagenti e accelerare le reazioni. In particolare, mentre un&#x27;aw molto bassa è generalmente protettiva, in alcuni intervalli intermedi può favorire l&#x27;ossidazione, soprattutto se catalizzata da enzimi residui. Mantenere l&#x27;aw nel range di massima stabilità è quindi un punto critico di controllo per la conservazione del colore e del valore nutrizionale.&quot;, &quot;La conservazione dei pigmenti è influenzata dall&#x27;equilibrio tra temperatura e tempo di processo, poiché il degrado termico è cumulativo. L&#x27;obiettivo è minimizzare lo stress termico complessivo: tempi di processo più brevi e temperature di essiccazione più basse riducono l&#x27;esposizione del prodotto al calore e all&#x27;ossigeno, limitando così l&#x27;ossidazione e la degradazione dei pigmenti sensibili come clorofille e carotenoidi.&quot;, … null]</td><td>[40, 42, … null]</td><td>31</td></tr><tr><td>&quot;deepseek_best&quot;</td><td>false</td><td>[&quot;Che cos&#x27;è la disidratazione a flusso di aria calda applicata agli alimenti?&quot;, &quot;Qual è l&#x27;obiettivo principale del processo di disidratazione?&quot;, … &quot;Quali sono i componenti fondamentali di un disidratatore ad aria calda e qual è la loro funzione?&quot;]</td><td>[&quot;La disidratazione a flusso di aria calda è un processo tecnologico che consiste nell&#x27;applicare calore a un alimento in condizioni controllate. Lo scopo è rimuovere gran parte dell&#x27;acqua contenuta al suo interno tramite evaporazione, trasformandola in vapore acqueo che viene poi allontanato.&quot;, &quot;L&#x27;obiettivo principale del processo di disidratazione è la conservazione dell&#x27;alimento. Riducendo il contenuto di acqua, si abbassa l&#x27;attività dell&#x27;acqua (aw), un parametro che inibisce la crescita di microrganismi (come batteri, lieviti e muffe) e rallenta le reazioni enzimatiche che causano il deterioramento del prodotto, estendendone così la durata di conservazione (shelf-life).&quot;, … &quot;I componenti fondamentali di un disidratatore sono: un sistema di riscaldamento per scaldare l&#x27;aria, un sistema di ventilazione per farla circolare, un sensore di temperatura per misurare il calore, un microcontroller che funge da cervello, un&#x27;interfaccia utente con display per impostare e monitorare il processo.&quot;]</td><td>[0, 1, … 172]</td><td>173</td></tr><tr><td>&quot;gemma_best&quot;</td><td>true</td><td>[&quot;Qual è il primo e più critico criterio di valutazione microbiologica e perché?&quot;, null]</td><td>[&quot;Il primo e più critico criterio di valutazione microbiologica è la ricerca di microrganismi patogeni, ovvero quelli che causano malattie nell&#x27;uomo. La loro criticità deriva dal fatto che la loro mera presenza, anche sotto forma di cellule vegetative dormienti (es. Salmonella) o di spore altamente resistenti (es. Clostridium, Bacillus), costituisce un rischio diretto e grave per la salute del consumatore.&quot;, null]</td><td>[199, null]</td><td>2</td></tr><tr><td>&quot;deepseek_best&quot;</td><td>true</td><td>[&quot;L&#x27;attività dell&#x27;acqua (aw) del prodotto finito ha un ruolo nella degradazione dei caroteni durante la conservazione?&quot;, &quot;Qual è il principale rischio microbiologico associato a un alimento disidratato durante la sua conservazione e utilizzo?&quot;, … null]</td><td>[&quot;Sì, l&#x27;attività dell&#x27;acqua (aw) del prodotto finito ha un ruolo importante. Valori di aw non ottimali possono influenzare la mobilità dei reagenti e accelerare le reazioni. In particolare, mentre un&#x27;aw molto bassa è generalmente protettiva, in alcuni intervalli intermedi può favorire l&#x27;ossidazione, soprattutto se catalizzata da enzimi residui. Mantenere l&#x27;aw nel range di massima stabilità è quindi un punto critico di controllo per la conservazione del colore e del valore nutrizionale.&quot;, &quot;Il principale rischio microbiologico durante la conservazione è che i microrganismi sopravvissuti, pur essendo in stato dormiente, possono riattivarsi e moltiplicarsi se il prodotto assorbe umidità a causa di un imballaggio non adeguato o di cattive condizioni di stoccaggio. Il rischio si manifesta poi al momento dell&#x27;utilizzo, se il prodotto viene reidratato e mantenuto a temperature che favoriscono la crescita microbica (temperature danger zone).&quot;, … null]</td><td>[40, 57, … null]</td><td>37</td></tr><tr><td>&quot;openai_best&quot;</td><td>true</td><td>[&quot;Per quale motivo prodotti come erbe e spezie vengono essiccati a temperature più basse?&quot;, &quot;Quale impatto ha l&#x27;essiccazione convettiva sul valore nutrizionale degli alimenti?&quot;, … null]</td><td>[&quot;Prodotti come erbe e spezie, il cui valore economico è legato ai loro aromi caratteristici, vengono essiccati a temperature più basse per minimizzare la perdita dei composti volatili che ne costituiscono il sapore. L&#x27;uso di temperature più miti, sebbene possa allungare i tempi del processo, è una scelta strategica per preservare al meglio la qualità organolettica del prodotto finale.&quot;, &quot;L&#x27;impatto dell&#x27;essiccazione convettiva sul valore nutrizionale è significativo, soprattutto a carico dei composti termosensibili. L&#x27;esposizione prolungata al calore e all&#x27;ossigeno causa una notevole perdita di vitamine, in particolare la Vitamina C (acido ascorbico) e alcune vitamine del gruppo B, oltre all&#x27;ossidazione di vitamine liposolubili come la Vitamina A.&quot;, … null]</td><td>[20, 73, … null]</td><td>6</td></tr><tr><td>&quot;gemini_best&quot;</td><td>true</td><td>[&quot;Cosa si intende per &#x27;stato vetroso&#x27; in un prodotto disidratato e perché è importante?&quot;, &quot;Da cosa è causato il fenomeno del restringimento (shrinkage) nei prodotti essiccati per convezione?&quot;, … null]</td><td>[&quot;Lo &#x27;stato vetroso&#x27; in un prodotto disidratato è uno stato solido amorfo (non cristallino), rigido e metastabile che si ottiene quando la temperatura del prodotto è inferiore alla sua temperatura di transizione vetrosa (Tg). [10, 12] Raggiungere questo stato è cruciale perché la bassissima mobilità molecolare conferisce al prodotto la massima stabilità, inibendo le reazioni di degradazione chimica e fisica e prolungandone la shelf-life. [6, 7]&quot;, &quot;Il fenomeno del restringimento (shrinkage) è causato dal collasso strutturale del prodotto quando l&#x27;acqua viene rimossa. La perdita d&#x27;acqua provoca la perdita di turgore cellulare e le forze capillari che si generano durante l&#x27;essiccazione portano a una contrazione irreversibile del volume, con un conseguente aumento della densità e una riduzione della porosità.&quot;, … null]</td><td>[11, 71, … null]</td><td>4</td></tr><tr><td>&quot;qwen_best&quot;</td><td>true</td><td>[&quot;Per quali prodotti è indicato l&#x27;essiccamento a letto fluido e qual è il suo principio?&quot;, &quot;Che cos&#x27;è la Computer Vision (CV) in parole semplici?&quot;, … null]</td><td>[&quot;L&#x27;essiccamento a letto fluido è indicato per prodotti solidi di piccole e uniformi dimensioni, come piselli, cereali o vegetali a cubetti. Il suo principio si basa su un forte flusso di aria calda dal basso verso l&#x27;alto che solleva e sospende le particelle (fluidizzazione), garantendo un contatto ottimale con l&#x27;aria e un&#x27;essiccazione molto rapida ed omogenea.&quot;, &quot;La Computer Vision è una branca dell&#x27;intelligenza artificiale che ha lo scopo di dare ai computer la capacità di &#x27;vedere&#x27; e interpretare il mondo visivo. Utilizzando una telecamera e algoritmi software, un sistema di CV può estrarre, analizzare e comprendere informazioni utili da un&#x27;immagine o da un video, in modo automatico.&quot;, … null]</td><td>[60, 100, … null]</td><td>51</td></tr></tbody></table></div>"
      ],
      "text/plain": [
       "shape: (10, 6)\n",
       "┌───────────────┬───────────────────┬──────────────────┬──────────────────┬──────────────────┬─────┐\n",
       "│ model_name    ┆ has_declarative_m ┆ question         ┆ target           ┆ id               ┆ n   │\n",
       "│ ---           ┆ emory             ┆ ---              ┆ ---              ┆ ---              ┆ --- │\n",
       "│ str           ┆ ---               ┆ list[str]        ┆ list[str]        ┆ list[i64]        ┆ u32 │\n",
       "│               ┆ bool              ┆                  ┆                  ┆                  ┆     │\n",
       "╞═══════════════╪═══════════════════╪══════════════════╪══════════════════╪══════════════════╪═════╡\n",
       "│ gemma_best    ┆ false             ┆ [\"Che cos'è la   ┆ [\"La             ┆ [0, 1, … null]   ┆ 337 │\n",
       "│               ┆                   ┆ disidratazione … ┆ disidratazione a ┆                  ┆     │\n",
       "│               ┆                   ┆                  ┆ flusso d…        ┆                  ┆     │\n",
       "│ openai_best   ┆ false             ┆ [\"Che cos'è la   ┆ [\"La Computer    ┆ [100, 137, …     ┆ 201 │\n",
       "│               ┆                   ┆ Computer Vision… ┆ Vision è una     ┆ null]            ┆     │\n",
       "│               ┆                   ┆                  ┆ bra…             ┆                  ┆     │\n",
       "│ qwen_best     ┆ false             ┆ [\"Che cos'è la   ┆ [\"La             ┆ [0, 1, … null]   ┆ 337 │\n",
       "│               ┆                   ┆ disidratazione … ┆ disidratazione a ┆                  ┆     │\n",
       "│               ┆                   ┆                  ┆ flusso d…        ┆                  ┆     │\n",
       "│ gemini_best   ┆ false             ┆ [\"L'attività     ┆ [\"Sì, l'attività ┆ [40, 42, … null] ┆ 31  │\n",
       "│               ┆                   ┆ dell'acqua (aw)  ┆ dell'acqua (a…   ┆                  ┆     │\n",
       "│               ┆                   ┆ d…               ┆                  ┆                  ┆     │\n",
       "│ deepseek_best ┆ false             ┆ [\"Che cos'è la   ┆ [\"La             ┆ [0, 1, … 172]    ┆ 173 │\n",
       "│               ┆                   ┆ disidratazione … ┆ disidratazione a ┆                  ┆     │\n",
       "│               ┆                   ┆                  ┆ flusso d…        ┆                  ┆     │\n",
       "│ gemma_best    ┆ true              ┆ [\"Qual è il      ┆ [\"Il primo e più ┆ [199, null]      ┆ 2   │\n",
       "│               ┆                   ┆ primo e più      ┆ critico crite…   ┆                  ┆     │\n",
       "│               ┆                   ┆ critic…          ┆                  ┆                  ┆     │\n",
       "│ deepseek_best ┆ true              ┆ [\"L'attività     ┆ [\"Sì, l'attività ┆ [40, 57, … null] ┆ 37  │\n",
       "│               ┆                   ┆ dell'acqua (aw)  ┆ dell'acqua (a…   ┆                  ┆     │\n",
       "│               ┆                   ┆ d…               ┆                  ┆                  ┆     │\n",
       "│ openai_best   ┆ true              ┆ [\"Per quale      ┆ [\"Prodotti come  ┆ [20, 73, … null] ┆ 6   │\n",
       "│               ┆                   ┆ motivo prodotti  ┆ erbe e spezie,…  ┆                  ┆     │\n",
       "│               ┆                   ┆ co…              ┆                  ┆                  ┆     │\n",
       "│ gemini_best   ┆ true              ┆ [\"Cosa si        ┆ [\"Lo 'stato      ┆ [11, 71, … null] ┆ 4   │\n",
       "│               ┆                   ┆ intende per      ┆ vetroso' in un   ┆                  ┆     │\n",
       "│               ┆                   ┆ 'stato v…        ┆ pro…             ┆                  ┆     │\n",
       "│ qwen_best     ┆ true              ┆ [\"Per quali      ┆ [\"L'essiccamento ┆ [60, 100, …      ┆ 51  │\n",
       "│               ┆                   ┆ prodotti è       ┆ a letto fluid…   ┆ null]            ┆     │\n",
       "│               ┆                   ┆ indicat…         ┆                  ┆                  ┆     │\n",
       "└───────────────┴───────────────────┴──────────────────┴──────────────────┴──────────────────┴─────┘"
      ]
     },
     "execution_count": null,
     "metadata": {},
     "output_type": "execute_result"
    }
   ],
   "source": [
    "missing"
   ]
  },
  {
   "cell_type": "code",
   "execution_count": null,
   "id": "14ad5706",
   "metadata": {},
   "outputs": [],
   "source": [
    "#| export\n",
    "def get_dataset(missing):\n",
    "    datasets = []\n",
    "    for row in missing.iter_rows(named=True):\n",
    "        dataset = []\n",
    "        for id, q, t in zip(row['id'], row['question'], row['target']):\n",
    "            if id is None:\n",
    "                continue\n",
    "            dataset.append({\n",
    "                'id': id,\n",
    "                'prompt': q,\n",
    "                'input': q,\n",
    "                'target': t\n",
    "            })\n",
    "        datasets.append(dataset)\n",
    "    return datasets"
   ]
  },
  {
   "cell_type": "code",
   "execution_count": null,
   "id": "7c81ce8b",
   "metadata": {},
   "outputs": [],
   "source": [
    "missing = missing.with_columns(dataset = pl.Series(get_dataset(missing), dtype=pl.Object))"
   ]
  },
  {
   "cell_type": "code",
   "execution_count": null,
   "id": "ed3f1c87",
   "metadata": {},
   "outputs": [],
   "source": [
    "#| export\n",
    "def get_missing_df(weave_client, query = calls_query):\n",
    "    calls = list(weave_client.get_calls(\n",
    "        filter={\"trace_roots_only\": True},\n",
    "        query=query,\n",
    "        sort_by=[{\"field\":\"started_at\",\"direction\":\"desc\"}],\n",
    "    ))\n",
    "    df = parse_calls(calls)\n",
    "    df_pl = pl.from_pandas(df.drop(columns=['weave_call']))\n",
    "    missing = df_pl.filter(c.model_answer.is_null()).group_by(c.model_name, c.has_declarative_memory).agg(question = c.question, target = c.expected_answer, id = c.question_id.cast(pl.Int64), n = pl.len()).sort(c.has_declarative_memory)\n",
    "    missing = missing.with_columns(dataset = pl.Series(get_dataset(missing), dtype=pl.Object))\n",
    "    return missing"
   ]
  },
  {
   "cell_type": "code",
   "execution_count": null,
   "id": "cac12b97",
   "metadata": {},
   "outputs": [],
   "source": [
    "#| export\n",
    "async def run_missing(missing):\n",
    "    client = SuperCatClient()\n",
    "    time = datetime.now().strftime(\"%m-%d %H:%M\")\n",
    "    eval_name = f\"{time} Eval\"\n",
    "    cat_has_memory = False\n",
    "    for row in missing.iter_rows(named=True):\n",
    "        dataset = row['dataset']\n",
    "        model_name = row['model_name']\n",
    "        has_mem = row['has_declarative_memory']\n",
    "        if cat_has_memory != has_mem:\n",
    "            if has_mem:\n",
    "                print(\"Preparing declarative memory...\")\n",
    "                prepare_declarative_memory(client)\n",
    "            else:\n",
    "                client.wipe_declarative_memory()\n",
    "            cat_has_memory = has_mem\n",
    "        print(f\"Running {model_name} with memory={has_mem} on {len(dataset)} examples\")\n",
    "        model = CatModel(model_name, conf_variants[model_name], has_declarative_memory=has_mem)\n",
    "        evaluation = weave.Evaluation(\n",
    "            dataset=dataset,\n",
    "            scorers=[similarity_scorer],\n",
    "            name=eval_name,\n",
    "        )\n",
    "        await evaluation.evaluate(\n",
    "            model, __weave={\"display_name\": f\"{eval_name} - {model_name} {'memory' if has_mem else 'NO memory'}\"}\n",
    "        )"
   ]
  },
  {
   "cell_type": "code",
   "execution_count": null,
   "id": "6c6643c3",
   "metadata": {},
   "outputs": [
    {
     "name": "stdout",
     "output_type": "stream",
     "text": [
      "Running gemma_best with memory=False on 336 examples\n"
     ]
    }
   ],
   "source": [
    "await run_missing(missing.head(1))"
   ]
  }
 ],
 "metadata": {
  "kernelspec": {
   "display_name": "python3",
   "language": "python",
   "name": "python3"
  }
 },
 "nbformat": 4,
 "nbformat_minor": 5
}
